{
 "cells": [
  {
   "cell_type": "code",
   "execution_count": 1,
   "id": "c6f4d154-9397-4f56-8b98-e9405c9870ac",
   "metadata": {},
   "outputs": [
    {
     "name": "stdout",
     "output_type": "stream",
     "text": [
      "Hello World!\n"
     ]
    }
   ],
   "source": [
    "print ('Hello World!')"
   ]
  },
  {
   "cell_type": "code",
   "execution_count": 2,
   "id": "7728f62a-d651-468b-b74e-6ac292d0b04a",
   "metadata": {},
   "outputs": [
    {
     "name": "stdout",
     "output_type": "stream",
     "text": [
      "Number of rows: 106\n"
     ]
    }
   ],
   "source": [
    "import csv\n",
    "\n",
    "with open('nutrition_data.csv', 'r') as file:\n",
    "    reader = csv.reader(file)\n",
    "    num_rows = sum(1 for row in reader)\n",
    "\n",
    "print(\"Number of rows:\", num_rows)"
   ]
  },
  {
   "cell_type": "code",
   "execution_count": 7,
   "id": "97247f8f-a3f7-44e6-85e4-2fcafd599922",
   "metadata": {},
   "outputs": [
    {
     "name": "stdout",
     "output_type": "stream",
     "text": [
      "        food_item  calories  protein  carbs  fats  meal_time\n",
      "0           Apple      95.0      0.5   25.0   0.3  Breakfast\n",
      "1          Banana     105.0      1.3   27.0   0.4      Snack\n",
      "2  Chicken Breast     165.0     31.0    0.0   3.6      Lunch\n",
      "3           Steak     679.0     62.0    0.0  48.0     Dinner\n",
      "4           Salad     150.0      2.0   15.0   7.0      Lunch\n",
      "5           Pizza       NaN     12.0   36.0  10.0     Dinner\n",
      "6            Rice     206.0      4.3   45.0   0.5      Lunch\n",
      "7            Fish     232.0     26.0    0.0   5.0     Dinner\n",
      "8          Yogurt      59.0     10.0   12.0   0.4      Snack\n",
      "9           Pasta     131.0      5.0   25.0   1.1      Lunch\n"
     ]
    }
   ],
   "source": [
    "import pandas as pd\n",
    "\n",
    "# Step 1: Load the CSV file into a DataFrame\n",
    "df = pd.read_csv('nutrition_data.csv')  # Replace 'your_file.csv' with the path to your CSV file\n",
    "\n",
    "# Step 2: Use head() to display the first few rows\n",
    "#print(df.head())  # Displays the first 5 rows by default\n",
    "\n",
    "# Optionally, specify the number of rows to display\n",
    "print(df.head(10))  # Displays the first 10 rows"
   ]
  },
  {
   "cell_type": "code",
   "execution_count": 9,
   "id": "63d66921-8087-482e-9477-6c1d6cc6480b",
   "metadata": {},
   "outputs": [
    {
     "name": "stdout",
     "output_type": "stream",
     "text": [
      "<class 'pandas.core.frame.DataFrame'>\n",
      "RangeIndex: 105 entries, 0 to 104\n",
      "Data columns (total 6 columns):\n",
      " #   Column     Non-Null Count  Dtype  \n",
      "---  ------     --------------  -----  \n",
      " 0   food_item  105 non-null    object \n",
      " 1   calories   103 non-null    float64\n",
      " 2   protein    104 non-null    float64\n",
      " 3   carbs      104 non-null    float64\n",
      " 4   fats       105 non-null    float64\n",
      " 5   meal_time  105 non-null    object \n",
      "dtypes: float64(4), object(2)\n",
      "memory usage: 5.1+ KB\n"
     ]
    }
   ],
   "source": [
    "df.info()"
   ]
  },
  {
   "cell_type": "code",
   "execution_count": 10,
   "id": "1d5afbf5-6ded-4c7c-8c87-2b9bdfeb0068",
   "metadata": {},
   "outputs": [
    {
     "data": {
      "text/plain": [
       "food_item    0\n",
       "calories     2\n",
       "protein      1\n",
       "carbs        1\n",
       "fats         0\n",
       "meal_time    0\n",
       "dtype: int64"
      ]
     },
     "execution_count": 10,
     "metadata": {},
     "output_type": "execute_result"
    }
   ],
   "source": [
    "df.isnull().sum()"
   ]
  },
  {
   "cell_type": "code",
   "execution_count": 13,
   "id": "33100091-f5b2-42d6-a5b8-d6fcd2e9ed88",
   "metadata": {},
   "outputs": [
    {
     "data": {
      "text/plain": [
       "food_item    False\n",
       "calories      True\n",
       "protein       True\n",
       "carbs         True\n",
       "fats         False\n",
       "meal_time    False\n",
       "dtype: bool"
      ]
     },
     "execution_count": 13,
     "metadata": {},
     "output_type": "execute_result"
    }
   ],
   "source": [
    "df.isnull().any()"
   ]
  },
  {
   "cell_type": "code",
   "execution_count": 14,
   "id": "1e6c6d5b-019f-40bd-a967-4d7ebf04b4a9",
   "metadata": {},
   "outputs": [],
   "source": [
    "  # One-hot encoding the meal_time column\n",
    "df_transformed = pd.get_dummies(df, columns=['meal_time'], drop_first=True)"
   ]
  },
  {
   "cell_type": "code",
   "execution_count": 15,
   "id": "0e3c7f27-ebba-41c2-ba0d-fedee4967fa5",
   "metadata": {},
   "outputs": [
    {
     "data": {
      "text/html": [
       "<div>\n",
       "<style scoped>\n",
       "    .dataframe tbody tr th:only-of-type {\n",
       "        vertical-align: middle;\n",
       "    }\n",
       "\n",
       "    .dataframe tbody tr th {\n",
       "        vertical-align: top;\n",
       "    }\n",
       "\n",
       "    .dataframe thead th {\n",
       "        text-align: right;\n",
       "    }\n",
       "</style>\n",
       "<table border=\"1\" class=\"dataframe\">\n",
       "  <thead>\n",
       "    <tr style=\"text-align: right;\">\n",
       "      <th></th>\n",
       "      <th>food_item</th>\n",
       "      <th>calories</th>\n",
       "      <th>protein</th>\n",
       "      <th>carbs</th>\n",
       "      <th>fats</th>\n",
       "      <th>meal_time_Dinner</th>\n",
       "      <th>meal_time_Lunch</th>\n",
       "      <th>meal_time_Snack</th>\n",
       "    </tr>\n",
       "  </thead>\n",
       "  <tbody>\n",
       "    <tr>\n",
       "      <th>0</th>\n",
       "      <td>Apple</td>\n",
       "      <td>95.0</td>\n",
       "      <td>0.5</td>\n",
       "      <td>25.0</td>\n",
       "      <td>0.3</td>\n",
       "      <td>False</td>\n",
       "      <td>False</td>\n",
       "      <td>False</td>\n",
       "    </tr>\n",
       "    <tr>\n",
       "      <th>1</th>\n",
       "      <td>Banana</td>\n",
       "      <td>105.0</td>\n",
       "      <td>1.3</td>\n",
       "      <td>27.0</td>\n",
       "      <td>0.4</td>\n",
       "      <td>False</td>\n",
       "      <td>False</td>\n",
       "      <td>True</td>\n",
       "    </tr>\n",
       "    <tr>\n",
       "      <th>2</th>\n",
       "      <td>Chicken Breast</td>\n",
       "      <td>165.0</td>\n",
       "      <td>31.0</td>\n",
       "      <td>0.0</td>\n",
       "      <td>3.6</td>\n",
       "      <td>False</td>\n",
       "      <td>True</td>\n",
       "      <td>False</td>\n",
       "    </tr>\n",
       "    <tr>\n",
       "      <th>3</th>\n",
       "      <td>Steak</td>\n",
       "      <td>679.0</td>\n",
       "      <td>62.0</td>\n",
       "      <td>0.0</td>\n",
       "      <td>48.0</td>\n",
       "      <td>True</td>\n",
       "      <td>False</td>\n",
       "      <td>False</td>\n",
       "    </tr>\n",
       "    <tr>\n",
       "      <th>4</th>\n",
       "      <td>Salad</td>\n",
       "      <td>150.0</td>\n",
       "      <td>2.0</td>\n",
       "      <td>15.0</td>\n",
       "      <td>7.0</td>\n",
       "      <td>False</td>\n",
       "      <td>True</td>\n",
       "      <td>False</td>\n",
       "    </tr>\n",
       "  </tbody>\n",
       "</table>\n",
       "</div>"
      ],
      "text/plain": [
       "        food_item  calories  protein  carbs  fats  meal_time_Dinner  \\\n",
       "0           Apple      95.0      0.5   25.0   0.3             False   \n",
       "1          Banana     105.0      1.3   27.0   0.4             False   \n",
       "2  Chicken Breast     165.0     31.0    0.0   3.6             False   \n",
       "3           Steak     679.0     62.0    0.0  48.0              True   \n",
       "4           Salad     150.0      2.0   15.0   7.0             False   \n",
       "\n",
       "   meal_time_Lunch  meal_time_Snack  \n",
       "0            False            False  \n",
       "1            False             True  \n",
       "2             True            False  \n",
       "3            False            False  \n",
       "4             True            False  "
      ]
     },
     "execution_count": 15,
     "metadata": {},
     "output_type": "execute_result"
    }
   ],
   "source": [
    "df_transformed.head()"
   ]
  },
  {
   "cell_type": "code",
   "execution_count": 16,
   "id": "d1671c73-53ec-4e35-bc85-641f57be1e15",
   "metadata": {},
   "outputs": [],
   "source": [
    "# Calorie-to-protein ratio\n",
    "df_transformed['calorie_protein_ratio'] = df_transformed['calories'] / (df_transformed['protein'] + 1e-6)  \n",
    "# Avoid division by zero"
   ]
  },
  {
   "cell_type": "code",
   "execution_count": 17,
   "id": "68dc1934-b060-48ab-a284-5e1438290230",
   "metadata": {},
   "outputs": [],
   "source": [
    "# Calorie density feature (calories per total grams of macronutrients)\n",
    "df_transformed['calorie_density'] = df_transformed['calories'] / (df_transformed['carbs'] + df_transformed['fats'] + df_transformed['protein'] + 1e-6)"
   ]
  },
  {
   "cell_type": "code",
   "execution_count": 18,
   "id": "426eb084-2e4b-44a3-a7f9-d13090b831a5",
   "metadata": {},
   "outputs": [
    {
     "data": {
      "text/html": [
       "<div>\n",
       "<style scoped>\n",
       "    .dataframe tbody tr th:only-of-type {\n",
       "        vertical-align: middle;\n",
       "    }\n",
       "\n",
       "    .dataframe tbody tr th {\n",
       "        vertical-align: top;\n",
       "    }\n",
       "\n",
       "    .dataframe thead th {\n",
       "        text-align: right;\n",
       "    }\n",
       "</style>\n",
       "<table border=\"1\" class=\"dataframe\">\n",
       "  <thead>\n",
       "    <tr style=\"text-align: right;\">\n",
       "      <th></th>\n",
       "      <th>calories</th>\n",
       "      <th>protein</th>\n",
       "      <th>calorie_protein_ratio</th>\n",
       "      <th>calorie_density</th>\n",
       "    </tr>\n",
       "  </thead>\n",
       "  <tbody>\n",
       "    <tr>\n",
       "      <th>0</th>\n",
       "      <td>95.0</td>\n",
       "      <td>0.5</td>\n",
       "      <td>189.999620</td>\n",
       "      <td>3.682170</td>\n",
       "    </tr>\n",
       "    <tr>\n",
       "      <th>1</th>\n",
       "      <td>105.0</td>\n",
       "      <td>1.3</td>\n",
       "      <td>80.769169</td>\n",
       "      <td>3.658536</td>\n",
       "    </tr>\n",
       "    <tr>\n",
       "      <th>2</th>\n",
       "      <td>165.0</td>\n",
       "      <td>31.0</td>\n",
       "      <td>5.322580</td>\n",
       "      <td>4.768786</td>\n",
       "    </tr>\n",
       "    <tr>\n",
       "      <th>3</th>\n",
       "      <td>679.0</td>\n",
       "      <td>62.0</td>\n",
       "      <td>10.951613</td>\n",
       "      <td>6.172727</td>\n",
       "    </tr>\n",
       "    <tr>\n",
       "      <th>4</th>\n",
       "      <td>150.0</td>\n",
       "      <td>2.0</td>\n",
       "      <td>74.999963</td>\n",
       "      <td>6.250000</td>\n",
       "    </tr>\n",
       "  </tbody>\n",
       "</table>\n",
       "</div>"
      ],
      "text/plain": [
       "   calories  protein  calorie_protein_ratio  calorie_density\n",
       "0      95.0      0.5             189.999620         3.682170\n",
       "1     105.0      1.3              80.769169         3.658536\n",
       "2     165.0     31.0               5.322580         4.768786\n",
       "3     679.0     62.0              10.951613         6.172727\n",
       "4     150.0      2.0              74.999963         6.250000"
      ]
     },
     "execution_count": 18,
     "metadata": {},
     "output_type": "execute_result"
    }
   ],
   "source": [
    "# Display the new features\n",
    "df_transformed[['calories', 'protein', 'calorie_protein_ratio', 'calorie_density']].head()"
   ]
  },
  {
   "cell_type": "code",
   "execution_count": 19,
   "id": "8764ce47-d6a5-4e83-9394-13e877698fdd",
   "metadata": {},
   "outputs": [],
   "source": [
    "from sklearn.preprocessing import MinMaxScaler\n",
    "\n",
    "# Selecting numerical columns to normalize\n",
    "numerical_cols = ['calories', 'protein', 'carbs', 'fats', 'calorie_protein_ratio', 'calorie_density']\n"
   ]
  },
  {
   "cell_type": "code",
   "execution_count": 20,
   "id": "50af1883-9bde-435d-a2a2-e3e66e6c12db",
   "metadata": {},
   "outputs": [],
   "source": [
    "# Initialize the Min-Max Scaler\n",
    "scaler = MinMaxScaler()"
   ]
  },
  {
   "cell_type": "code",
   "execution_count": 21,
   "id": "388f3434-7511-4c42-93bc-c38aff150a4b",
   "metadata": {},
   "outputs": [],
   "source": [
    "# Apply the scaler to the numerical columns\n",
    "df_transformed[numerical_cols] = scaler.fit_transform(df_transformed[numerical_cols])"
   ]
  },
  {
   "cell_type": "code",
   "execution_count": 22,
   "id": "2138e638-8326-4b17-a5ed-367492e983da",
   "metadata": {},
   "outputs": [
    {
     "data": {
      "text/html": [
       "<div>\n",
       "<style scoped>\n",
       "    .dataframe tbody tr th:only-of-type {\n",
       "        vertical-align: middle;\n",
       "    }\n",
       "\n",
       "    .dataframe tbody tr th {\n",
       "        vertical-align: top;\n",
       "    }\n",
       "\n",
       "    .dataframe thead th {\n",
       "        text-align: right;\n",
       "    }\n",
       "</style>\n",
       "<table border=\"1\" class=\"dataframe\">\n",
       "  <thead>\n",
       "    <tr style=\"text-align: right;\">\n",
       "      <th></th>\n",
       "      <th>calories</th>\n",
       "      <th>protein</th>\n",
       "      <th>carbs</th>\n",
       "      <th>fats</th>\n",
       "      <th>calorie_protein_ratio</th>\n",
       "      <th>calorie_density</th>\n",
       "    </tr>\n",
       "  </thead>\n",
       "  <tbody>\n",
       "    <tr>\n",
       "      <th>0</th>\n",
       "      <td>0.198903</td>\n",
       "      <td>0.000000</td>\n",
       "      <td>0.555556</td>\n",
       "      <td>0.000000</td>\n",
       "      <td>1.000000</td>\n",
       "      <td>0.544485</td>\n",
       "    </tr>\n",
       "    <tr>\n",
       "      <th>1</th>\n",
       "      <td>0.212620</td>\n",
       "      <td>0.002671</td>\n",
       "      <td>0.600000</td>\n",
       "      <td>0.002096</td>\n",
       "      <td>0.437439</td>\n",
       "      <td>0.541653</td>\n",
       "    </tr>\n",
       "    <tr>\n",
       "      <th>2</th>\n",
       "      <td>0.294925</td>\n",
       "      <td>0.101836</td>\n",
       "      <td>0.000000</td>\n",
       "      <td>0.069182</td>\n",
       "      <td>0.048872</td>\n",
       "      <td>0.674682</td>\n",
       "    </tr>\n",
       "    <tr>\n",
       "      <th>3</th>\n",
       "      <td>1.000000</td>\n",
       "      <td>0.205342</td>\n",
       "      <td>0.000000</td>\n",
       "      <td>1.000000</td>\n",
       "      <td>0.077863</td>\n",
       "      <td>0.842900</td>\n",
       "    </tr>\n",
       "    <tr>\n",
       "      <th>4</th>\n",
       "      <td>0.274348</td>\n",
       "      <td>0.005008</td>\n",
       "      <td>0.333333</td>\n",
       "      <td>0.140461</td>\n",
       "      <td>0.407726</td>\n",
       "      <td>0.852159</td>\n",
       "    </tr>\n",
       "  </tbody>\n",
       "</table>\n",
       "</div>"
      ],
      "text/plain": [
       "   calories   protein     carbs      fats  calorie_protein_ratio  \\\n",
       "0  0.198903  0.000000  0.555556  0.000000               1.000000   \n",
       "1  0.212620  0.002671  0.600000  0.002096               0.437439   \n",
       "2  0.294925  0.101836  0.000000  0.069182               0.048872   \n",
       "3  1.000000  0.205342  0.000000  1.000000               0.077863   \n",
       "4  0.274348  0.005008  0.333333  0.140461               0.407726   \n",
       "\n",
       "   calorie_density  \n",
       "0         0.544485  \n",
       "1         0.541653  \n",
       "2         0.674682  \n",
       "3         0.842900  \n",
       "4         0.852159  "
      ]
     },
     "execution_count": 22,
     "metadata": {},
     "output_type": "execute_result"
    }
   ],
   "source": [
    "# Display the normalized data\n",
    "df_transformed[numerical_cols].head()"
   ]
  },
  {
   "cell_type": "code",
   "execution_count": null,
   "id": "b5d647cb-5bd9-4ac9-92ab-7367ecf09540",
   "metadata": {},
   "outputs": [],
   "source": []
  }
 ],
 "metadata": {
  "kernelspec": {
   "display_name": "Python 3 (ipykernel)",
   "language": "python",
   "name": "python3"
  },
  "language_info": {
   "codemirror_mode": {
    "name": "ipython",
    "version": 3
   },
   "file_extension": ".py",
   "mimetype": "text/x-python",
   "name": "python",
   "nbconvert_exporter": "python",
   "pygments_lexer": "ipython3",
   "version": "3.12.7"
  }
 },
 "nbformat": 4,
 "nbformat_minor": 5
}
