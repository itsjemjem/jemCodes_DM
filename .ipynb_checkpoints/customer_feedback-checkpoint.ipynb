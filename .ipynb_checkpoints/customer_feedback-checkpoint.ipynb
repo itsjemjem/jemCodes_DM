{
 "cells": [
  {
   "cell_type": "code",
   "execution_count": 2,
   "id": "3b63d7e2-0cb4-4a83-9b86-0bd139bf7030",
   "metadata": {},
   "outputs": [
    {
     "data": {
      "text/html": [
       "<div>\n",
       "<style scoped>\n",
       "    .dataframe tbody tr th:only-of-type {\n",
       "        vertical-align: middle;\n",
       "    }\n",
       "\n",
       "    .dataframe tbody tr th {\n",
       "        vertical-align: top;\n",
       "    }\n",
       "\n",
       "    .dataframe thead th {\n",
       "        text-align: right;\n",
       "    }\n",
       "</style>\n",
       "<table border=\"1\" class=\"dataframe\">\n",
       "  <thead>\n",
       "    <tr style=\"text-align: right;\">\n",
       "      <th></th>\n",
       "      <th>Customer_ID</th>\n",
       "      <th>Satisfaction_Score</th>\n",
       "      <th>Feedback_Comments</th>\n",
       "      <th>Likelihood_to_Recommend</th>\n",
       "    </tr>\n",
       "  </thead>\n",
       "  <tbody>\n",
       "    <tr>\n",
       "      <th>0</th>\n",
       "      <td>1</td>\n",
       "      <td>10.0</td>\n",
       "      <td>Very satisfied</td>\n",
       "      <td>9</td>\n",
       "    </tr>\n",
       "    <tr>\n",
       "      <th>1</th>\n",
       "      <td>2</td>\n",
       "      <td>3.0</td>\n",
       "      <td>Very satisfied</td>\n",
       "      <td>3</td>\n",
       "    </tr>\n",
       "    <tr>\n",
       "      <th>2</th>\n",
       "      <td>3</td>\n",
       "      <td>10.0</td>\n",
       "      <td>Very satisfied</td>\n",
       "      <td>1</td>\n",
       "    </tr>\n",
       "    <tr>\n",
       "      <th>3</th>\n",
       "      <td>4</td>\n",
       "      <td>7.0</td>\n",
       "      <td>Needs improvement</td>\n",
       "      <td>4</td>\n",
       "    </tr>\n",
       "    <tr>\n",
       "      <th>4</th>\n",
       "      <td>5</td>\n",
       "      <td>8.0</td>\n",
       "      <td>Unsatisfactory</td>\n",
       "      <td>7</td>\n",
       "    </tr>\n",
       "  </tbody>\n",
       "</table>\n",
       "</div>"
      ],
      "text/plain": [
       "   Customer_ID  Satisfaction_Score  Feedback_Comments  Likelihood_to_Recommend\n",
       "0            1                10.0     Very satisfied                        9\n",
       "1            2                 3.0     Very satisfied                        3\n",
       "2            3                10.0     Very satisfied                        1\n",
       "3            4                 7.0  Needs improvement                        4\n",
       "4            5                 8.0     Unsatisfactory                        7"
      ]
     },
     "execution_count": 2,
     "metadata": {},
     "output_type": "execute_result"
    }
   ],
   "source": [
    "import pandas as pd\n",
    "\n",
    "#Load the CSV file into a DataFrame\n",
    "df = pd.read_csv('Customer_Feedback_Data.csv') \n",
    "df.head()"
   ]
  },
  {
   "cell_type": "code",
   "execution_count": 3,
   "id": "893e85fd-4b84-4572-a34a-8446521fb447",
   "metadata": {},
   "outputs": [
    {
     "data": {
      "text/plain": [
       "Customer_ID                False\n",
       "Satisfaction_Score         False\n",
       "Feedback_Comments          False\n",
       "Likelihood_to_Recommend    False\n",
       "dtype: bool"
      ]
     },
     "execution_count": 3,
     "metadata": {},
     "output_type": "execute_result"
    }
   ],
   "source": [
    "#Identify null values\n",
    "df.isna().all()"
   ]
  },
  {
   "cell_type": "code",
   "execution_count": 4,
   "id": "11189967-d616-47b6-a5c0-1f44f7959547",
   "metadata": {},
   "outputs": [
    {
     "data": {
      "text/plain": [
       "Customer_ID                  int64\n",
       "Satisfaction_Score         float64\n",
       "Feedback_Comments           object\n",
       "Likelihood_to_Recommend      int64\n",
       "dtype: object"
      ]
     },
     "execution_count": 4,
     "metadata": {},
     "output_type": "execute_result"
    }
   ],
   "source": [
    "#Check data types\n",
    "df.dtypes"
   ]
  },
  {
   "cell_type": "code",
   "execution_count": 7,
   "id": "e307b37a-3dcc-4da7-a98b-2a4b1399fe7d",
   "metadata": {},
   "outputs": [],
   "source": [
    "#Change data type for Customer_ID to string as this might be considered to be a numerical value that should be computed\n",
    "df['Customer_ID']=df['Customer_ID'].astype('str')"
   ]
  },
  {
   "cell_type": "code",
   "execution_count": 8,
   "id": "2ef6ca73-fc72-4ab8-a53b-0adb2d288b21",
   "metadata": {},
   "outputs": [
    {
     "data": {
      "text/plain": [
       "Customer_ID                 object\n",
       "Satisfaction_Score         float64\n",
       "Feedback_Comments           object\n",
       "Likelihood_to_Recommend      int64\n",
       "dtype: object"
      ]
     },
     "execution_count": 8,
     "metadata": {},
     "output_type": "execute_result"
    }
   ],
   "source": [
    "df.dtypes"
   ]
  },
  {
   "cell_type": "code",
   "execution_count": 9,
   "id": "4f42603b-97af-4c41-833f-eafe22acdbb1",
   "metadata": {},
   "outputs": [
    {
     "name": "stdout",
     "output_type": "stream",
     "text": [
      "Total number of survey respondents: 1000\n",
      "Average Satisfaction Score: 5.68\n",
      "Number of feedback comments: 5050\n",
      "Average Likelihood to Recommend: 5.57\n"
     ]
    }
   ],
   "source": [
    "#df = pd.DataFrame(data)\n",
    "\n",
    "# Total number of survey respondents\n",
    "total_respondents = df['Customer_ID'].nunique()\n",
    "\n",
    "# Average satisfaction score\n",
    "average_satisfaction = df['Satisfaction_Score'].mean()\n",
    "\n",
    "# Customer sentiment (count of feedback comments)\n",
    "feedback_count = df['Feedback_Comments'].notna().sum()\n",
    "\n",
    "# Likelihood to recommend (average score)\n",
    "average_likelihood_to_recommend = df['Likelihood_to_Recommend'].mean()\n",
    "\n",
    "# Print the results\n",
    "print(f\"Total number of survey respondents: {total_respondents}\")\n",
    "print(f\"Average Satisfaction Score: {average_satisfaction:.2f}\")\n",
    "print(f\"Number of feedback comments: {feedback_count}\")\n",
    "print(f\"Average Likelihood to Recommend: {average_likelihood_to_recommend:.2f}\")"
   ]
  },
  {
   "cell_type": "code",
   "execution_count": 10,
   "id": "245dfa75-243e-45d5-bd5f-67282fa0bb21",
   "metadata": {},
   "outputs": [],
   "source": [
    "df = df.rename(columns = {'Satisfaction_Score':'NPS','Feedback_Comments':'OSAT'})"
   ]
  },
  {
   "cell_type": "code",
   "execution_count": 11,
   "id": "13b5cf9d-4b1f-4543-9610-f50fa471bcec",
   "metadata": {},
   "outputs": [
    {
     "data": {
      "text/html": [
       "<div>\n",
       "<style scoped>\n",
       "    .dataframe tbody tr th:only-of-type {\n",
       "        vertical-align: middle;\n",
       "    }\n",
       "\n",
       "    .dataframe tbody tr th {\n",
       "        vertical-align: top;\n",
       "    }\n",
       "\n",
       "    .dataframe thead th {\n",
       "        text-align: right;\n",
       "    }\n",
       "</style>\n",
       "<table border=\"1\" class=\"dataframe\">\n",
       "  <thead>\n",
       "    <tr style=\"text-align: right;\">\n",
       "      <th></th>\n",
       "      <th>Customer_ID</th>\n",
       "      <th>NPS</th>\n",
       "      <th>OSAT</th>\n",
       "      <th>Likelihood_to_Recommend</th>\n",
       "    </tr>\n",
       "  </thead>\n",
       "  <tbody>\n",
       "    <tr>\n",
       "      <th>0</th>\n",
       "      <td>1</td>\n",
       "      <td>10.0</td>\n",
       "      <td>Very satisfied</td>\n",
       "      <td>9</td>\n",
       "    </tr>\n",
       "    <tr>\n",
       "      <th>1</th>\n",
       "      <td>2</td>\n",
       "      <td>3.0</td>\n",
       "      <td>Very satisfied</td>\n",
       "      <td>3</td>\n",
       "    </tr>\n",
       "    <tr>\n",
       "      <th>2</th>\n",
       "      <td>3</td>\n",
       "      <td>10.0</td>\n",
       "      <td>Very satisfied</td>\n",
       "      <td>1</td>\n",
       "    </tr>\n",
       "    <tr>\n",
       "      <th>3</th>\n",
       "      <td>4</td>\n",
       "      <td>7.0</td>\n",
       "      <td>Needs improvement</td>\n",
       "      <td>4</td>\n",
       "    </tr>\n",
       "    <tr>\n",
       "      <th>4</th>\n",
       "      <td>5</td>\n",
       "      <td>8.0</td>\n",
       "      <td>Unsatisfactory</td>\n",
       "      <td>7</td>\n",
       "    </tr>\n",
       "  </tbody>\n",
       "</table>\n",
       "</div>"
      ],
      "text/plain": [
       "  Customer_ID   NPS               OSAT  Likelihood_to_Recommend\n",
       "0           1  10.0     Very satisfied                        9\n",
       "1           2   3.0     Very satisfied                        3\n",
       "2           3  10.0     Very satisfied                        1\n",
       "3           4   7.0  Needs improvement                        4\n",
       "4           5   8.0     Unsatisfactory                        7"
      ]
     },
     "execution_count": 11,
     "metadata": {},
     "output_type": "execute_result"
    }
   ],
   "source": [
    "df.head()"
   ]
  },
  {
   "cell_type": "code",
   "execution_count": 13,
   "id": "141bd56e-8acd-4e6c-8fc5-5d2a5c08958d",
   "metadata": {},
   "outputs": [
    {
     "name": "stdout",
     "output_type": "stream",
     "text": [
      "['Very satisfied' 'Needs improvement' 'Unsatisfactory' 'Good service'\n",
      " 'Excellent']\n"
     ]
    }
   ],
   "source": [
    "# Get unique values from the 'Category' column\n",
    "unique_values = df['OSAT'].unique()\n",
    "print(unique_values)"
   ]
  },
  {
   "cell_type": "code",
   "execution_count": null,
   "id": "49625188-c4e7-4ac8-ac58-3cfb0ac6b189",
   "metadata": {},
   "outputs": [],
   "source": []
  }
 ],
 "metadata": {
  "kernelspec": {
   "display_name": "Python 3 (ipykernel)",
   "language": "python",
   "name": "python3"
  },
  "language_info": {
   "codemirror_mode": {
    "name": "ipython",
    "version": 3
   },
   "file_extension": ".py",
   "mimetype": "text/x-python",
   "name": "python",
   "nbconvert_exporter": "python",
   "pygments_lexer": "ipython3",
   "version": "3.12.7"
  }
 },
 "nbformat": 4,
 "nbformat_minor": 5
}
