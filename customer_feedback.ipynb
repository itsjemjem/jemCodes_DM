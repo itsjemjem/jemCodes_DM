{
 "cells": [
  {
   "cell_type": "code",
   "execution_count": 2,
   "id": "3b63d7e2-0cb4-4a83-9b86-0bd139bf7030",
   "metadata": {},
   "outputs": [
    {
     "data": {
      "text/html": [
       "<div>\n",
       "<style scoped>\n",
       "    .dataframe tbody tr th:only-of-type {\n",
       "        vertical-align: middle;\n",
       "    }\n",
       "\n",
       "    .dataframe tbody tr th {\n",
       "        vertical-align: top;\n",
       "    }\n",
       "\n",
       "    .dataframe thead th {\n",
       "        text-align: right;\n",
       "    }\n",
       "</style>\n",
       "<table border=\"1\" class=\"dataframe\">\n",
       "  <thead>\n",
       "    <tr style=\"text-align: right;\">\n",
       "      <th></th>\n",
       "      <th>Customer_ID</th>\n",
       "      <th>Satisfaction_Score</th>\n",
       "      <th>Feedback_Comments</th>\n",
       "      <th>Likelihood_to_Recommend</th>\n",
       "    </tr>\n",
       "  </thead>\n",
       "  <tbody>\n",
       "    <tr>\n",
       "      <th>0</th>\n",
       "      <td>1</td>\n",
       "      <td>10.0</td>\n",
       "      <td>Very satisfied</td>\n",
       "      <td>9</td>\n",
       "    </tr>\n",
       "    <tr>\n",
       "      <th>1</th>\n",
       "      <td>2</td>\n",
       "      <td>3.0</td>\n",
       "      <td>Very satisfied</td>\n",
       "      <td>3</td>\n",
       "    </tr>\n",
       "    <tr>\n",
       "      <th>2</th>\n",
       "      <td>3</td>\n",
       "      <td>10.0</td>\n",
       "      <td>Very satisfied</td>\n",
       "      <td>1</td>\n",
       "    </tr>\n",
       "    <tr>\n",
       "      <th>3</th>\n",
       "      <td>4</td>\n",
       "      <td>7.0</td>\n",
       "      <td>Needs improvement</td>\n",
       "      <td>4</td>\n",
       "    </tr>\n",
       "    <tr>\n",
       "      <th>4</th>\n",
       "      <td>5</td>\n",
       "      <td>8.0</td>\n",
       "      <td>Unsatisfactory</td>\n",
       "      <td>7</td>\n",
       "    </tr>\n",
       "  </tbody>\n",
       "</table>\n",
       "</div>"
      ],
      "text/plain": [
       "   Customer_ID  Satisfaction_Score  Feedback_Comments  Likelihood_to_Recommend\n",
       "0            1                10.0     Very satisfied                        9\n",
       "1            2                 3.0     Very satisfied                        3\n",
       "2            3                10.0     Very satisfied                        1\n",
       "3            4                 7.0  Needs improvement                        4\n",
       "4            5                 8.0     Unsatisfactory                        7"
      ]
     },
     "execution_count": 2,
     "metadata": {},
     "output_type": "execute_result"
    }
   ],
   "source": [
    "import pandas as pd\n",
    "\n",
    "#Load the CSV file into a DataFrame\n",
    "df = pd.read_csv('Customer_Feedback_Data.csv') \n",
    "df.head()"
   ]
  },
  {
   "cell_type": "code",
   "execution_count": 3,
   "id": "893e85fd-4b84-4572-a34a-8446521fb447",
   "metadata": {},
   "outputs": [
    {
     "data": {
      "text/plain": [
       "Customer_ID                False\n",
       "Satisfaction_Score         False\n",
       "Feedback_Comments          False\n",
       "Likelihood_to_Recommend    False\n",
       "dtype: bool"
      ]
     },
     "execution_count": 3,
     "metadata": {},
     "output_type": "execute_result"
    }
   ],
   "source": [
    "#Identify null values\n",
    "df.isna().all()"
   ]
  },
  {
   "cell_type": "code",
   "execution_count": 4,
   "id": "11189967-d616-47b6-a5c0-1f44f7959547",
   "metadata": {},
   "outputs": [
    {
     "data": {
      "text/plain": [
       "Customer_ID                  int64\n",
       "Satisfaction_Score         float64\n",
       "Feedback_Comments           object\n",
       "Likelihood_to_Recommend      int64\n",
       "dtype: object"
      ]
     },
     "execution_count": 4,
     "metadata": {},
     "output_type": "execute_result"
    }
   ],
   "source": [
    "#Check data types\n",
    "df.dtypes"
   ]
  },
  {
   "cell_type": "code",
   "execution_count": 7,
   "id": "e307b37a-3dcc-4da7-a98b-2a4b1399fe7d",
   "metadata": {},
   "outputs": [],
   "source": [
    "#Change data type for Customer_ID to string as this might be considered to be a numerical value that should be computed\n",
    "df['Customer_ID']=df['Customer_ID'].astype('str')"
   ]
  },
  {
   "cell_type": "code",
   "execution_count": 8,
   "id": "2ef6ca73-fc72-4ab8-a53b-0adb2d288b21",
   "metadata": {},
   "outputs": [
    {
     "data": {
      "text/plain": [
       "Customer_ID                 object\n",
       "Satisfaction_Score         float64\n",
       "Feedback_Comments           object\n",
       "Likelihood_to_Recommend      int64\n",
       "dtype: object"
      ]
     },
     "execution_count": 8,
     "metadata": {},
     "output_type": "execute_result"
    }
   ],
   "source": [
    "df.dtypes"
   ]
  },
  {
   "cell_type": "code",
   "execution_count": 9,
   "id": "4f42603b-97af-4c41-833f-eafe22acdbb1",
   "metadata": {},
   "outputs": [
    {
     "name": "stdout",
     "output_type": "stream",
     "text": [
      "Total number of survey respondents: 1000\n",
      "Average Satisfaction Score: 5.68\n",
      "Number of feedback comments: 5050\n",
      "Average Likelihood to Recommend: 5.57\n"
     ]
    }
   ],
   "source": [
    "#df = pd.DataFrame(data)\n",
    "\n",
    "# Total number of survey respondents\n",
    "total_respondents = df['Customer_ID'].nunique()\n",
    "\n",
    "# Average satisfaction score\n",
    "average_satisfaction = df['Satisfaction_Score'].mean()\n",
    "\n",
    "# Customer sentiment (count of feedback comments)\n",
    "feedback_count = df['Feedback_Comments'].notna().sum()\n",
    "\n",
    "# Likelihood to recommend (average score)\n",
    "average_likelihood_to_recommend = df['Likelihood_to_Recommend'].mean()\n",
    "\n",
    "# Print the results\n",
    "print(f\"Total number of survey respondents: {total_respondents}\")\n",
    "print(f\"Average Satisfaction Score: {average_satisfaction:.2f}\")\n",
    "print(f\"Number of feedback comments: {feedback_count}\")\n",
    "print(f\"Average Likelihood to Recommend: {average_likelihood_to_recommend:.2f}\")"
   ]
  },
  {
   "cell_type": "code",
   "execution_count": 10,
   "id": "245dfa75-243e-45d5-bd5f-67282fa0bb21",
   "metadata": {},
   "outputs": [],
   "source": [
    "df = df.rename(columns = {'Satisfaction_Score':'NPS','Feedback_Comments':'OSAT'})"
   ]
  },
  {
   "cell_type": "code",
   "execution_count": 11,
   "id": "13b5cf9d-4b1f-4543-9610-f50fa471bcec",
   "metadata": {},
   "outputs": [
    {
     "data": {
      "text/html": [
       "<div>\n",
       "<style scoped>\n",
       "    .dataframe tbody tr th:only-of-type {\n",
       "        vertical-align: middle;\n",
       "    }\n",
       "\n",
       "    .dataframe tbody tr th {\n",
       "        vertical-align: top;\n",
       "    }\n",
       "\n",
       "    .dataframe thead th {\n",
       "        text-align: right;\n",
       "    }\n",
       "</style>\n",
       "<table border=\"1\" class=\"dataframe\">\n",
       "  <thead>\n",
       "    <tr style=\"text-align: right;\">\n",
       "      <th></th>\n",
       "      <th>Customer_ID</th>\n",
       "      <th>NPS</th>\n",
       "      <th>OSAT</th>\n",
       "      <th>Likelihood_to_Recommend</th>\n",
       "    </tr>\n",
       "  </thead>\n",
       "  <tbody>\n",
       "    <tr>\n",
       "      <th>0</th>\n",
       "      <td>1</td>\n",
       "      <td>10.0</td>\n",
       "      <td>Very satisfied</td>\n",
       "      <td>9</td>\n",
       "    </tr>\n",
       "    <tr>\n",
       "      <th>1</th>\n",
       "      <td>2</td>\n",
       "      <td>3.0</td>\n",
       "      <td>Very satisfied</td>\n",
       "      <td>3</td>\n",
       "    </tr>\n",
       "    <tr>\n",
       "      <th>2</th>\n",
       "      <td>3</td>\n",
       "      <td>10.0</td>\n",
       "      <td>Very satisfied</td>\n",
       "      <td>1</td>\n",
       "    </tr>\n",
       "    <tr>\n",
       "      <th>3</th>\n",
       "      <td>4</td>\n",
       "      <td>7.0</td>\n",
       "      <td>Needs improvement</td>\n",
       "      <td>4</td>\n",
       "    </tr>\n",
       "    <tr>\n",
       "      <th>4</th>\n",
       "      <td>5</td>\n",
       "      <td>8.0</td>\n",
       "      <td>Unsatisfactory</td>\n",
       "      <td>7</td>\n",
       "    </tr>\n",
       "  </tbody>\n",
       "</table>\n",
       "</div>"
      ],
      "text/plain": [
       "  Customer_ID   NPS               OSAT  Likelihood_to_Recommend\n",
       "0           1  10.0     Very satisfied                        9\n",
       "1           2   3.0     Very satisfied                        3\n",
       "2           3  10.0     Very satisfied                        1\n",
       "3           4   7.0  Needs improvement                        4\n",
       "4           5   8.0     Unsatisfactory                        7"
      ]
     },
     "execution_count": 11,
     "metadata": {},
     "output_type": "execute_result"
    }
   ],
   "source": [
    "df.head()"
   ]
  },
  {
   "cell_type": "code",
   "execution_count": 13,
   "id": "141bd56e-8acd-4e6c-8fc5-5d2a5c08958d",
   "metadata": {},
   "outputs": [
    {
     "name": "stdout",
     "output_type": "stream",
     "text": [
      "['Very satisfied' 'Needs improvement' 'Unsatisfactory' 'Good service'\n",
      " 'Excellent']\n"
     ]
    }
   ],
   "source": [
    "# Get unique values from the 'Category' column\n",
    "unique_values = df['OSAT'].unique()\n",
    "print(unique_values)"
   ]
  },
  {
   "cell_type": "code",
   "execution_count": 14,
   "id": "49625188-c4e7-4ac8-ac58-3cfb0ac6b189",
   "metadata": {},
   "outputs": [
    {
     "name": "stdout",
     "output_type": "stream",
     "text": [
      "     Customer_ID   NPS               OSAT  Likelihood_to_Recommend  OSAT_Score\n",
      "0              1  10.0     Very satisfied                        9           4\n",
      "1              2   3.0     Very satisfied                        3           4\n",
      "2              3  10.0     Very satisfied                        1           4\n",
      "3              4   7.0  Needs improvement                        4           2\n",
      "4              5   8.0     Unsatisfactory                        7           1\n",
      "...          ...   ...                ...                      ...         ...\n",
      "5045         757   9.0       Good service                        3           3\n",
      "5046         969   2.0     Unsatisfactory                        2           1\n",
      "5047         248   4.0       Good service                        3           3\n",
      "5048          58   4.0     Unsatisfactory                       10           1\n",
      "5049         635   4.0     Very satisfied                        6           4\n",
      "\n",
      "[5050 rows x 5 columns]\n"
     ]
    }
   ],
   "source": [
    "osat_mapping = {\n",
    "    'Excellent': 5,\n",
    "    'Very satisfied': 4,\n",
    "    'Good service': 3,\n",
    "    'Needs improvement': 2,\n",
    "    'Unsatisfactory': 1\n",
    "}\n",
    "\n",
    "# Apply the mapping to the OSAT column\n",
    "df['OSAT_Score'] = df['OSAT'].map(osat_mapping)\n",
    "\n",
    "# Display the updated DataFrame\n",
    "print(df)"
   ]
  },
  {
   "cell_type": "code",
   "execution_count": 19,
   "id": "652013c5-5ced-422a-b436-b207bea42a7a",
   "metadata": {},
   "outputs": [
    {
     "name": "stdout",
     "output_type": "stream",
     "text": [
      "Total number of survey respondents: 5050\n",
      "Average Satisfaction Score: 5.68\n",
      "Average Overall Satisfaction: 2.79\n",
      "Average Likelihood to Recommend: -38.02\n"
     ]
    }
   ],
   "source": [
    "#df = pd.DataFrame(data)\n",
    "\n",
    "# Total number of survey respondents (unique Customer_ID)\n",
    "total_respondents = df['Customer_ID'].nunique()\n",
    "\n",
    "# Average NPS (formerly Satisfaction_Score)\n",
    "average_satisfaction = df['NPS'].mean()\n",
    "\n",
    "# Customer sentiment (count of feedback comments)\n",
    "average_osat = df['OSAT_Score'].mean()\n",
    "\n",
    "# Categorize respondents into Promoters, Passives, and Detractors\n",
    "def categorize_nps(score):\n",
    "    if score >= 9:\n",
    "        return 'Promoter'\n",
    "    elif score >= 7:\n",
    "        return 'Passive'\n",
    "    else:\n",
    "        return 'Detractor'\n",
    "\n",
    "df['NPS_Category'] = df['Likelihood_to_Recommend'].apply(categorize_nps)\n",
    "\n",
    "# Calculate NPS\n",
    "nps_counts = df['NPS_Category'].value_counts()\n",
    "promoters = nps_counts.get('Promoter', 0)\n",
    "detractors = nps_counts.get('Detractor', 0)\n",
    "total_respondents = len(df)\n",
    "\n",
    "nps = ((promoters - detractors) / total_respondents) * 100\n",
    "\n",
    "# Print the results\n",
    "print(f\"Total number of survey respondents: {total_respondents}\")\n",
    "print(f\"Average Satisfaction Score: {average_satisfaction:.2f}\")\n",
    "print(f\"Average Overall Satisfaction: {average_osat:.2f}\")\n",
    "print(f\"Average Likelihood to Recommend: {nps:.2f}\")"
   ]
  },
  {
   "cell_type": "code",
   "execution_count": 18,
   "id": "851ad466-5852-40d8-ad81-a0462db48941",
   "metadata": {},
   "outputs": [
    {
     "name": "stdout",
     "output_type": "stream",
     "text": [
      "OSAT\n",
      "Good service         1519\n",
      "Needs improvement    1044\n",
      "Very satisfied       1015\n",
      "Unsatisfactory        988\n",
      "Excellent             484\n",
      "Name: count, dtype: int64\n"
     ]
    }
   ],
   "source": [
    "value_counts = df['OSAT'].value_counts()\n",
    "print(value_counts)"
   ]
  },
  {
   "cell_type": "code",
   "execution_count": 20,
   "id": "33544681-8ed6-4697-9b5c-6b660756472b",
   "metadata": {},
   "outputs": [
    {
     "name": "stdout",
     "output_type": "stream",
     "text": [
      "Likelihood_to_Recommend\n",
      "10    541\n",
      "4     540\n",
      "7     530\n",
      "9     514\n",
      "2     506\n",
      "6     494\n",
      "8     490\n",
      "5     484\n",
      "3     481\n",
      "1     470\n",
      "Name: count, dtype: int64\n"
     ]
    }
   ],
   "source": [
    "value_counts = df['Likelihood_to_Recommend'].value_counts()\n",
    "print(value_counts)"
   ]
  },
  {
   "cell_type": "code",
   "execution_count": null,
   "id": "8aacef2a-25b1-4cd6-a671-5c079f255518",
   "metadata": {
    "editable": true,
    "slideshow": {
     "slide_type": ""
    },
    "tags": []
   },
   "outputs": [],
   "source": []
  }
 ],
 "metadata": {
  "kernelspec": {
   "display_name": "Python 3 (ipykernel)",
   "language": "python",
   "name": "python3"
  },
  "language_info": {
   "codemirror_mode": {
    "name": "ipython",
    "version": 3
   },
   "file_extension": ".py",
   "mimetype": "text/x-python",
   "name": "python",
   "nbconvert_exporter": "python",
   "pygments_lexer": "ipython3",
   "version": "3.12.7"
  }
 },
 "nbformat": 4,
 "nbformat_minor": 5
}
