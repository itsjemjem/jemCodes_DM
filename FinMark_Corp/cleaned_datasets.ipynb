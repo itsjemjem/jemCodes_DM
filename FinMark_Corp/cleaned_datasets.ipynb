{
 "cells": [
  {
   "cell_type": "markdown",
   "id": "7b19da51-7a5c-43a4-8f14-2e4b536a4025",
   "metadata": {},
   "source": [
    "## FinMark Corporation\n",
    "### Wagas, Jemelie B."
   ]
  },
  {
   "cell_type": "markdown",
   "id": "f95043e4-7018-428c-ae29-32b7da620a0b",
   "metadata": {},
   "source": [
    "#### Product Offering Data"
   ]
  },
  {
   "cell_type": "code",
   "execution_count": 1,
   "id": "da44c3d9-55e6-4c8d-b08d-e39a4262e3c8",
   "metadata": {
    "editable": true,
    "slideshow": {
     "slide_type": ""
    },
    "tags": []
   },
   "outputs": [
    {
     "data": {
      "text/html": [
       "<div>\n",
       "<style scoped>\n",
       "    .dataframe tbody tr th:only-of-type {\n",
       "        vertical-align: middle;\n",
       "    }\n",
       "\n",
       "    .dataframe tbody tr th {\n",
       "        vertical-align: top;\n",
       "    }\n",
       "\n",
       "    .dataframe thead th {\n",
       "        text-align: right;\n",
       "    }\n",
       "</style>\n",
       "<table border=\"1\" class=\"dataframe\">\n",
       "  <thead>\n",
       "    <tr style=\"text-align: right;\">\n",
       "      <th></th>\n",
       "      <th>Product_ID</th>\n",
       "      <th>Product_Name</th>\n",
       "      <th>Product_Type</th>\n",
       "      <th>Risk_Level</th>\n",
       "      <th>Target_Age_Group</th>\n",
       "      <th>Target_Income_Group</th>\n",
       "    </tr>\n",
       "  </thead>\n",
       "  <tbody>\n",
       "    <tr>\n",
       "      <th>0</th>\n",
       "      <td>1</td>\n",
       "      <td>Platinum Credit Card</td>\n",
       "      <td>Credit Card</td>\n",
       "      <td>Medium</td>\n",
       "      <td>NaN</td>\n",
       "      <td>Medium</td>\n",
       "    </tr>\n",
       "    <tr>\n",
       "      <th>1</th>\n",
       "      <td>2</td>\n",
       "      <td>Gold Savings Account</td>\n",
       "      <td>Savings Account</td>\n",
       "      <td>Low</td>\n",
       "      <td>NaN</td>\n",
       "      <td>Low</td>\n",
       "    </tr>\n",
       "    <tr>\n",
       "      <th>2</th>\n",
       "      <td>3</td>\n",
       "      <td>High-Yield Investment Account</td>\n",
       "      <td>Investment</td>\n",
       "      <td>High</td>\n",
       "      <td>NaN</td>\n",
       "      <td>High</td>\n",
       "    </tr>\n",
       "    <tr>\n",
       "      <th>3</th>\n",
       "      <td>4</td>\n",
       "      <td>Mortgage Loan</td>\n",
       "      <td>Loan</td>\n",
       "      <td>Medium</td>\n",
       "      <td>NaN</td>\n",
       "      <td>High</td>\n",
       "    </tr>\n",
       "    <tr>\n",
       "      <th>4</th>\n",
       "      <td>5</td>\n",
       "      <td>Auto Loan</td>\n",
       "      <td>Loan</td>\n",
       "      <td>Medium</td>\n",
       "      <td>NaN</td>\n",
       "      <td>Medium</td>\n",
       "    </tr>\n",
       "  </tbody>\n",
       "</table>\n",
       "</div>"
      ],
      "text/plain": [
       "   Product_ID                   Product_Name     Product_Type Risk_Level  \\\n",
       "0           1           Platinum Credit Card      Credit Card     Medium   \n",
       "1           2           Gold Savings Account  Savings Account        Low   \n",
       "2           3  High-Yield Investment Account       Investment       High   \n",
       "3           4                  Mortgage Loan             Loan     Medium   \n",
       "4           5                      Auto Loan             Loan     Medium   \n",
       "\n",
       "   Target_Age_Group Target_Income_Group  \n",
       "0               NaN              Medium  \n",
       "1               NaN                 Low  \n",
       "2               NaN                High  \n",
       "3               NaN                High  \n",
       "4               NaN              Medium  "
      ]
     },
     "execution_count": 1,
     "metadata": {},
     "output_type": "execute_result"
    }
   ],
   "source": [
    "import pandas as pd\n",
    "\n",
    "# Load the CSV file into a DataFrame\n",
    "df = pd.read_csv('Product_Offering_Data.csv') \n",
    "df.head()"
   ]
  },
  {
   "cell_type": "code",
   "execution_count": 2,
   "id": "0f7def82-c73a-4b2e-adef-121ba88507c0",
   "metadata": {
    "editable": true,
    "slideshow": {
     "slide_type": ""
    },
    "tags": []
   },
   "outputs": [
    {
     "data": {
      "text/plain": [
       "Product_ID             False\n",
       "Product_Name           False\n",
       "Product_Type           False\n",
       "Risk_Level             False\n",
       "Target_Age_Group        True\n",
       "Target_Income_Group    False\n",
       "dtype: bool"
      ]
     },
     "execution_count": 2,
     "metadata": {},
     "output_type": "execute_result"
    }
   ],
   "source": [
    "# Check if there are null values\n",
    "df.isna().all()"
   ]
  },
  {
   "cell_type": "code",
   "execution_count": 42,
   "id": "626af052-14f7-4ae3-8a91-91ab046c3545",
   "metadata": {},
   "outputs": [
    {
     "data": {
      "text/plain": [
       "0              Platinum Credit Card\n",
       "1              Gold Savings Account\n",
       "2     High-Yield Investment Account\n",
       "3                     Mortgage Loan\n",
       "4                         Auto Loan\n",
       "5                     Personal Loan\n",
       "6             Youth Savings Account\n",
       "7        Retirement Investment Fund\n",
       "8                     Business Loan\n",
       "9                Travel Credit Card\n",
       "10             Gold Savings Account\n",
       "11               Travel Credit Card\n",
       "12    High-Yield Investment Account\n",
       "13                    Personal Loan\n",
       "14             Platinum Credit Card\n",
       "Name: Product_Name, dtype: object"
      ]
     },
     "execution_count": 42,
     "metadata": {},
     "output_type": "execute_result"
    }
   ],
   "source": [
    "# Quick check for the content of Product Name column but can also use .duplicated()==1 syntax to identify duplicate values \n",
    "df = pd.read_csv('Product_Offering_Data.csv') \n",
    "df['Product_Name']"
   ]
  },
  {
   "cell_type": "code",
   "execution_count": 41,
   "id": "b44157ce-511f-48e6-ab08-c7119c15f279",
   "metadata": {},
   "outputs": [
    {
     "data": {
      "text/plain": [
       "0             Platinum Credit Card\n",
       "1             Gold Savings Account\n",
       "2    High-Yield Investment Account\n",
       "3                    Mortgage Loan\n",
       "4                        Auto Loan\n",
       "5                    Personal Loan\n",
       "6            Youth Savings Account\n",
       "7       Retirement Investment Fund\n",
       "8                    Business Loan\n",
       "9               Travel Credit Card\n",
       "Name: Product_Name, dtype: object"
      ]
     },
     "execution_count": 41,
     "metadata": {},
     "output_type": "execute_result"
    }
   ],
   "source": [
    "# Remove the duplicates from the Product Name column\n",
    "df = pd.read_csv('Product_Offering_Data.csv') \n",
    "df = df.drop_duplicates()\n",
    "df['Product_Name']"
   ]
  },
  {
   "cell_type": "code",
   "execution_count": 47,
   "id": "c323c408-8c0e-40f1-9be6-85547b0325b5",
   "metadata": {},
   "outputs": [
    {
     "data": {
      "text/plain": [
       "Product_ID               int64\n",
       "Product_Name            object\n",
       "Product_Type            object\n",
       "Risk_Level              object\n",
       "Target_Age_Group       float64\n",
       "Target_Income_Group     object\n",
       "dtype: object"
      ]
     },
     "execution_count": 47,
     "metadata": {},
     "output_type": "execute_result"
    }
   ],
   "source": [
    "# Check data types\n",
    "df = pd.read_csv('Product_Offering_Data.csv')\n",
    "df.dtypes"
   ]
  },
  {
   "cell_type": "markdown",
   "id": "5362bc55-8917-462f-95c1-62b1f2ca95d9",
   "metadata": {},
   "source": [
    "##### ------DONE--------"
   ]
  },
  {
   "cell_type": "markdown",
   "id": "5482edf8-8fdc-4387-97e4-6e9dd251ec35",
   "metadata": {},
   "source": [
    "#### Transaction Data"
   ]
  },
  {
   "cell_type": "code",
   "execution_count": 1,
   "id": "3c8c1325-719a-4189-a092-f1cab8790a2c",
   "metadata": {
    "editable": true,
    "slideshow": {
     "slide_type": ""
    },
    "tags": []
   },
   "outputs": [
    {
     "data": {
      "text/html": [
       "<div>\n",
       "<style scoped>\n",
       "    .dataframe tbody tr th:only-of-type {\n",
       "        vertical-align: middle;\n",
       "    }\n",
       "\n",
       "    .dataframe tbody tr th {\n",
       "        vertical-align: top;\n",
       "    }\n",
       "\n",
       "    .dataframe thead th {\n",
       "        text-align: right;\n",
       "    }\n",
       "</style>\n",
       "<table border=\"1\" class=\"dataframe\">\n",
       "  <thead>\n",
       "    <tr style=\"text-align: right;\">\n",
       "      <th></th>\n",
       "      <th>Transaction_ID</th>\n",
       "      <th>Customer_ID</th>\n",
       "      <th>Transaction_Date</th>\n",
       "      <th>Transaction_Amount</th>\n",
       "      <th>Transaction_Type</th>\n",
       "    </tr>\n",
       "  </thead>\n",
       "  <tbody>\n",
       "    <tr>\n",
       "      <th>0</th>\n",
       "      <td>1</td>\n",
       "      <td>393</td>\n",
       "      <td>2023-01-01 00:00:00</td>\n",
       "      <td>3472.0</td>\n",
       "      <td>Purchase</td>\n",
       "    </tr>\n",
       "    <tr>\n",
       "      <th>1</th>\n",
       "      <td>2</td>\n",
       "      <td>826</td>\n",
       "      <td>2023-01-01 01:00:00</td>\n",
       "      <td>NaN</td>\n",
       "      <td>Bill Payment</td>\n",
       "    </tr>\n",
       "    <tr>\n",
       "      <th>2</th>\n",
       "      <td>3</td>\n",
       "      <td>916</td>\n",
       "      <td>2023-01-01 02:00:00</td>\n",
       "      <td>10.0</td>\n",
       "      <td>Purchase</td>\n",
       "    </tr>\n",
       "    <tr>\n",
       "      <th>3</th>\n",
       "      <td>4</td>\n",
       "      <td>109</td>\n",
       "      <td>2023-01-01 03:00:00</td>\n",
       "      <td>72.0</td>\n",
       "      <td>Investment</td>\n",
       "    </tr>\n",
       "    <tr>\n",
       "      <th>4</th>\n",
       "      <td>5</td>\n",
       "      <td>889</td>\n",
       "      <td>2023-01-01 04:00:00</td>\n",
       "      <td>1793.0</td>\n",
       "      <td>Investment</td>\n",
       "    </tr>\n",
       "  </tbody>\n",
       "</table>\n",
       "</div>"
      ],
      "text/plain": [
       "   Transaction_ID  Customer_ID     Transaction_Date  Transaction_Amount  \\\n",
       "0               1          393  2023-01-01 00:00:00              3472.0   \n",
       "1               2          826  2023-01-01 01:00:00                 NaN   \n",
       "2               3          916  2023-01-01 02:00:00                10.0   \n",
       "3               4          109  2023-01-01 03:00:00                72.0   \n",
       "4               5          889  2023-01-01 04:00:00              1793.0   \n",
       "\n",
       "  Transaction_Type  \n",
       "0         Purchase  \n",
       "1     Bill Payment  \n",
       "2         Purchase  \n",
       "3       Investment  \n",
       "4       Investment  "
      ]
     },
     "execution_count": 1,
     "metadata": {},
     "output_type": "execute_result"
    }
   ],
   "source": [
    "import pandas as pd\n",
    "\n",
    "#Load the CSV file into a DataFrame\n",
    "df = pd.read_csv('Transaction_Data.csv') \n",
    "df.head()"
   ]
  },
  {
   "cell_type": "code",
   "execution_count": 2,
   "id": "71101995-dd11-4240-8377-d0056655bf1e",
   "metadata": {},
   "outputs": [
    {
     "data": {
      "text/html": [
       "<div>\n",
       "<style scoped>\n",
       "    .dataframe tbody tr th:only-of-type {\n",
       "        vertical-align: middle;\n",
       "    }\n",
       "\n",
       "    .dataframe tbody tr th {\n",
       "        vertical-align: top;\n",
       "    }\n",
       "\n",
       "    .dataframe thead th {\n",
       "        text-align: right;\n",
       "    }\n",
       "</style>\n",
       "<table border=\"1\" class=\"dataframe\">\n",
       "  <thead>\n",
       "    <tr style=\"text-align: right;\">\n",
       "      <th></th>\n",
       "      <th>Transaction_ID</th>\n",
       "      <th>Customer_ID</th>\n",
       "      <th>Transaction_Date</th>\n",
       "      <th>Transaction_Amount</th>\n",
       "      <th>Transaction_Type</th>\n",
       "    </tr>\n",
       "  </thead>\n",
       "  <tbody>\n",
       "    <tr>\n",
       "      <th>1</th>\n",
       "      <td>2</td>\n",
       "      <td>826</td>\n",
       "      <td>2023-01-01 01:00:00</td>\n",
       "      <td>NaN</td>\n",
       "      <td>Bill Payment</td>\n",
       "    </tr>\n",
       "    <tr>\n",
       "      <th>31</th>\n",
       "      <td>32</td>\n",
       "      <td>63</td>\n",
       "      <td>2023-01-02 07:00:00</td>\n",
       "      <td>NaN</td>\n",
       "      <td>Purchase</td>\n",
       "    </tr>\n",
       "    <tr>\n",
       "      <th>212</th>\n",
       "      <td>213</td>\n",
       "      <td>411</td>\n",
       "      <td>2023-01-09 20:00:00</td>\n",
       "      <td>NaN</td>\n",
       "      <td>Purchase</td>\n",
       "    </tr>\n",
       "    <tr>\n",
       "      <th>253</th>\n",
       "      <td>254</td>\n",
       "      <td>979</td>\n",
       "      <td>2023-01-11 13:00:00</td>\n",
       "      <td>NaN</td>\n",
       "      <td>Bill Payment</td>\n",
       "    </tr>\n",
       "    <tr>\n",
       "      <th>272</th>\n",
       "      <td>273</td>\n",
       "      <td>253</td>\n",
       "      <td>2023-01-12 08:00:00</td>\n",
       "      <td>NaN</td>\n",
       "      <td>Purchase</td>\n",
       "    </tr>\n",
       "    <tr>\n",
       "      <th>...</th>\n",
       "      <td>...</td>\n",
       "      <td>...</td>\n",
       "      <td>...</td>\n",
       "      <td>...</td>\n",
       "      <td>...</td>\n",
       "    </tr>\n",
       "    <tr>\n",
       "      <th>4691</th>\n",
       "      <td>4692</td>\n",
       "      <td>567</td>\n",
       "      <td>2023-07-15 11:00:00</td>\n",
       "      <td>NaN</td>\n",
       "      <td>Purchase</td>\n",
       "    </tr>\n",
       "    <tr>\n",
       "      <th>4846</th>\n",
       "      <td>4847</td>\n",
       "      <td>366</td>\n",
       "      <td>2023-07-21 22:00:00</td>\n",
       "      <td>NaN</td>\n",
       "      <td>Investment</td>\n",
       "    </tr>\n",
       "    <tr>\n",
       "      <th>4862</th>\n",
       "      <td>4863</td>\n",
       "      <td>460</td>\n",
       "      <td>2023-07-22 14:00:00</td>\n",
       "      <td>NaN</td>\n",
       "      <td>Investment</td>\n",
       "    </tr>\n",
       "    <tr>\n",
       "      <th>4876</th>\n",
       "      <td>4877</td>\n",
       "      <td>917</td>\n",
       "      <td>2023-07-23 04:00:00</td>\n",
       "      <td>NaN</td>\n",
       "      <td>Investment</td>\n",
       "    </tr>\n",
       "    <tr>\n",
       "      <th>4947</th>\n",
       "      <td>4948</td>\n",
       "      <td>864</td>\n",
       "      <td>2023-07-26 03:00:00</td>\n",
       "      <td>NaN</td>\n",
       "      <td>Bill Payment</td>\n",
       "    </tr>\n",
       "  </tbody>\n",
       "</table>\n",
       "<p>100 rows × 5 columns</p>\n",
       "</div>"
      ],
      "text/plain": [
       "      Transaction_ID  Customer_ID     Transaction_Date  Transaction_Amount  \\\n",
       "1                  2          826  2023-01-01 01:00:00                 NaN   \n",
       "31                32           63  2023-01-02 07:00:00                 NaN   \n",
       "212              213          411  2023-01-09 20:00:00                 NaN   \n",
       "253              254          979  2023-01-11 13:00:00                 NaN   \n",
       "272              273          253  2023-01-12 08:00:00                 NaN   \n",
       "...              ...          ...                  ...                 ...   \n",
       "4691            4692          567  2023-07-15 11:00:00                 NaN   \n",
       "4846            4847          366  2023-07-21 22:00:00                 NaN   \n",
       "4862            4863          460  2023-07-22 14:00:00                 NaN   \n",
       "4876            4877          917  2023-07-23 04:00:00                 NaN   \n",
       "4947            4948          864  2023-07-26 03:00:00                 NaN   \n",
       "\n",
       "     Transaction_Type  \n",
       "1        Bill Payment  \n",
       "31           Purchase  \n",
       "212          Purchase  \n",
       "253      Bill Payment  \n",
       "272          Purchase  \n",
       "...               ...  \n",
       "4691         Purchase  \n",
       "4846       Investment  \n",
       "4862       Investment  \n",
       "4876       Investment  \n",
       "4947     Bill Payment  \n",
       "\n",
       "[100 rows x 5 columns]"
      ]
     },
     "execution_count": 2,
     "metadata": {},
     "output_type": "execute_result"
    }
   ],
   "source": [
    "# Check null values\n",
    "df[df['Transaction_Amount'].isna()==1]"
   ]
  },
  {
   "cell_type": "code",
   "execution_count": 46,
   "id": "7bde2e94-c39e-4212-bade-f3e36b838c90",
   "metadata": {},
   "outputs": [
    {
     "data": {
      "text/html": [
       "<div>\n",
       "<style scoped>\n",
       "    .dataframe tbody tr th:only-of-type {\n",
       "        vertical-align: middle;\n",
       "    }\n",
       "\n",
       "    .dataframe tbody tr th {\n",
       "        vertical-align: top;\n",
       "    }\n",
       "\n",
       "    .dataframe thead th {\n",
       "        text-align: right;\n",
       "    }\n",
       "</style>\n",
       "<table border=\"1\" class=\"dataframe\">\n",
       "  <thead>\n",
       "    <tr style=\"text-align: right;\">\n",
       "      <th></th>\n",
       "      <th>Transaction_ID</th>\n",
       "      <th>Customer_ID</th>\n",
       "      <th>Transaction_Date</th>\n",
       "      <th>Transaction_Amount</th>\n",
       "      <th>Transaction_Type</th>\n",
       "    </tr>\n",
       "  </thead>\n",
       "  <tbody>\n",
       "    <tr>\n",
       "      <th>0</th>\n",
       "      <td>1</td>\n",
       "      <td>393</td>\n",
       "      <td>2023-01-01 00:00:00</td>\n",
       "      <td>3472.0</td>\n",
       "      <td>Purchase</td>\n",
       "    </tr>\n",
       "    <tr>\n",
       "      <th>1</th>\n",
       "      <td>2</td>\n",
       "      <td>826</td>\n",
       "      <td>2023-01-01 01:00:00</td>\n",
       "      <td>0.0</td>\n",
       "      <td>Bill Payment</td>\n",
       "    </tr>\n",
       "    <tr>\n",
       "      <th>2</th>\n",
       "      <td>3</td>\n",
       "      <td>916</td>\n",
       "      <td>2023-01-01 02:00:00</td>\n",
       "      <td>10.0</td>\n",
       "      <td>Purchase</td>\n",
       "    </tr>\n",
       "    <tr>\n",
       "      <th>3</th>\n",
       "      <td>4</td>\n",
       "      <td>109</td>\n",
       "      <td>2023-01-01 03:00:00</td>\n",
       "      <td>72.0</td>\n",
       "      <td>Investment</td>\n",
       "    </tr>\n",
       "    <tr>\n",
       "      <th>4</th>\n",
       "      <td>5</td>\n",
       "      <td>889</td>\n",
       "      <td>2023-01-01 04:00:00</td>\n",
       "      <td>1793.0</td>\n",
       "      <td>Investment</td>\n",
       "    </tr>\n",
       "  </tbody>\n",
       "</table>\n",
       "</div>"
      ],
      "text/plain": [
       "   Transaction_ID  Customer_ID     Transaction_Date  Transaction_Amount  \\\n",
       "0               1          393  2023-01-01 00:00:00              3472.0   \n",
       "1               2          826  2023-01-01 01:00:00                 0.0   \n",
       "2               3          916  2023-01-01 02:00:00                10.0   \n",
       "3               4          109  2023-01-01 03:00:00                72.0   \n",
       "4               5          889  2023-01-01 04:00:00              1793.0   \n",
       "\n",
       "  Transaction_Type  \n",
       "0         Purchase  \n",
       "1     Bill Payment  \n",
       "2         Purchase  \n",
       "3       Investment  \n",
       "4       Investment  "
      ]
     },
     "execution_count": 46,
     "metadata": {},
     "output_type": "execute_result"
    }
   ],
   "source": [
    "# Fill those with null values as 0\n",
    "df = pd.read_csv('Transaction_Data.csv')\n",
    "df['Transaction_Amount'] = df['Transaction_Amount'].fillna(0)\n",
    "df.head()"
   ]
  },
  {
   "cell_type": "code",
   "execution_count": 50,
   "id": "06d78eb1-344b-4aa1-bcee-51915bf6ed51",
   "metadata": {},
   "outputs": [
    {
     "name": "stdout",
     "output_type": "stream",
     "text": [
      "Outliers detected using Z-Score method:\n",
      "      Transaction_ID  Customer_ID     Transaction_Date  Transaction_Amount  \\\n",
      "612              613          191  2023-01-26 12:00:00            480300.0   \n",
      "1264            1265          772  2023-02-22 16:00:00            390200.0   \n",
      "1738            1739           27  2023-03-14 10:00:00            194500.0   \n",
      "2045            2046           59  2023-03-27 05:00:00            183500.0   \n",
      "2184            2185          850  2023-04-02 00:00:00             94500.0   \n",
      "2270            2271          521  2023-04-05 14:00:00            428900.0   \n",
      "3037            3038          690  2023-05-07 13:00:00            458600.0   \n",
      "3059            3060          195  2023-05-08 11:00:00            270900.0   \n",
      "3289            3290          649  2023-05-18 01:00:00            175600.0   \n",
      "4852            4853          396  2023-07-22 04:00:00            362700.0   \n",
      "\n",
      "     Transaction_Type    Z-Score  \n",
      "612      Bill Payment  32.203343  \n",
      "1264     Bill Payment  26.123106  \n",
      "1738     Bill Payment  12.916642  \n",
      "2045     Loan Payment  12.174327  \n",
      "2184     Loan Payment   6.168321  \n",
      "2270       Investment  28.734706  \n",
      "3037     Bill Payment  30.738958  \n",
      "3059       Investment  18.072359  \n",
      "3289         Purchase  11.641209  \n",
      "4852     Loan Payment  24.267318  \n"
     ]
    }
   ],
   "source": [
    "import pandas as pd\n",
    "import numpy as np\n",
    "\n",
    "df = pd.read_csv('Transaction_Data.csv') \n",
    "\n",
    "# Calculate Z-scores\n",
    "df['Z-Score'] = (df['Transaction_Amount'] - df['Transaction_Amount'].mean()) / df['Transaction_Amount'].std()\n",
    "\n",
    "# Identify outliers\n",
    "outliers_z = df[np.abs(df['Z-Score']) > 3]\n",
    "print(\"Outliers detected using Z-Score method:\")\n",
    "print(outliers_z)\n"
   ]
  },
  {
   "cell_type": "code",
   "execution_count": 4,
   "id": "5a53ebac-5798-4280-8fba-f19b299ad452",
   "metadata": {},
   "outputs": [
    {
     "data": {
      "text/plain": [
       "array(['Purchase', 'Bill Payment', 'Investment', 'Loan Payment'],\n",
       "      dtype=object)"
      ]
     },
     "execution_count": 4,
     "metadata": {},
     "output_type": "execute_result"
    }
   ],
   "source": [
    "# Quick check for the content of Transaction Type column \n",
    "df['Transaction_Type'].unique()"
   ]
  },
  {
   "cell_type": "code",
   "execution_count": 5,
   "id": "c20a9e7e-0587-45ce-aeff-9dd91b8f32ca",
   "metadata": {},
   "outputs": [
    {
     "data": {
      "text/plain": [
       "Transaction_ID          int64\n",
       "Customer_ID             int64\n",
       "Transaction_Date       object\n",
       "Transaction_Amount    float64\n",
       "Transaction_Type       object\n",
       "dtype: object"
      ]
     },
     "execution_count": 5,
     "metadata": {},
     "output_type": "execute_result"
    }
   ],
   "source": [
    "# Check data types\n",
    "df.dtypes"
   ]
  },
  {
   "cell_type": "code",
   "execution_count": 6,
   "id": "4f3ffe89-ec84-4b6e-8590-a1d8f8fc96eb",
   "metadata": {},
   "outputs": [],
   "source": [
    "df['Customer_ID'] = df['Customer_ID'].astype('str')"
   ]
  },
  {
   "cell_type": "code",
   "execution_count": 8,
   "id": "fe4ce30b-2556-4154-b163-d4c0d1f3c05b",
   "metadata": {},
   "outputs": [
    {
     "data": {
      "text/plain": [
       "Transaction_ID          int64\n",
       "Customer_ID            object\n",
       "Transaction_Date       object\n",
       "Transaction_Amount    float64\n",
       "Transaction_Type       object\n",
       "dtype: object"
      ]
     },
     "execution_count": 8,
     "metadata": {},
     "output_type": "execute_result"
    }
   ],
   "source": [
    "# Check data types\n",
    "df.dtypes"
   ]
  },
  {
   "cell_type": "code",
   "execution_count": 16,
   "id": "86939de5-e924-4fd0-89e7-6de49894adfc",
   "metadata": {},
   "outputs": [
    {
     "data": {
      "text/plain": [
       "Customer_ID                False\n",
       "Satisfaction_Score         False\n",
       "Feedback_Comments          False\n",
       "Likelihood_to_Recommend    False\n",
       "dtype: bool"
      ]
     },
     "execution_count": 16,
     "metadata": {},
     "output_type": "execute_result"
    }
   ],
   "source": [
    "# Check columns with null values\n",
    "df.isna().all()"
   ]
  },
  {
   "cell_type": "code",
   "execution_count": 54,
   "id": "baf24060-399c-4749-941d-f07d7d16695a",
   "metadata": {},
   "outputs": [
    {
     "data": {
      "text/plain": [
       "array([[<Axes: title={'center': 'Transaction_ID'}>,\n",
       "        <Axes: title={'center': 'Customer_ID'}>],\n",
       "       [<Axes: title={'center': 'Transaction_Amount'}>, <Axes: >]],\n",
       "      dtype=object)"
      ]
     },
     "execution_count": 54,
     "metadata": {},
     "output_type": "execute_result"
    },
    {
     "data": {
      "image/png": "[encoded data removed]",
      "text/plain": [
       "<Figure size 2000x1000 with 4 Axes>"
      ]
     },
     "metadata": {},
     "output_type": "display_data"
    }
   ],
   "source": [
    "df = pd.read_csv('Transaction_Data.csv') \n",
    "df.hist(bins=60, figsize=(20,10))"
   ]
  },
  {
   "cell_type": "markdown",
   "id": "5914f6c6-9233-4e56-80b1-29ed610564fe",
   "metadata": {},
   "source": [
    "##### ------DONE--------"
   ]
  },
  {
   "cell_type": "markdown",
   "id": "fe22f078-8320-44fe-ab66-0810c97be94c",
   "metadata": {},
   "source": [
    "#### Customer Feedback"
   ]
  },
  {
   "cell_type": "code",
   "execution_count": 10,
   "id": "c98536f7-6039-4927-b411-0d5cb2b29540",
   "metadata": {},
   "outputs": [
    {
     "data": {
      "text/html": [
       "<div>\n",
       "<style scoped>\n",
       "    .dataframe tbody tr th:only-of-type {\n",
       "        vertical-align: middle;\n",
       "    }\n",
       "\n",
       "    .dataframe tbody tr th {\n",
       "        vertical-align: top;\n",
       "    }\n",
       "\n",
       "    .dataframe thead th {\n",
       "        text-align: right;\n",
       "    }\n",
       "</style>\n",
       "<table border=\"1\" class=\"dataframe\">\n",
       "  <thead>\n",
       "    <tr style=\"text-align: right;\">\n",
       "      <th></th>\n",
       "      <th>Customer_ID</th>\n",
       "      <th>Satisfaction_Score</th>\n",
       "      <th>Feedback_Comments</th>\n",
       "      <th>Likelihood_to_Recommend</th>\n",
       "    </tr>\n",
       "  </thead>\n",
       "  <tbody>\n",
       "    <tr>\n",
       "      <th>0</th>\n",
       "      <td>1</td>\n",
       "      <td>10.0</td>\n",
       "      <td>Very satisfied</td>\n",
       "      <td>9</td>\n",
       "    </tr>\n",
       "    <tr>\n",
       "      <th>1</th>\n",
       "      <td>2</td>\n",
       "      <td>3.0</td>\n",
       "      <td>Very satisfied</td>\n",
       "      <td>3</td>\n",
       "    </tr>\n",
       "    <tr>\n",
       "      <th>2</th>\n",
       "      <td>3</td>\n",
       "      <td>10.0</td>\n",
       "      <td>Very satisfied</td>\n",
       "      <td>1</td>\n",
       "    </tr>\n",
       "    <tr>\n",
       "      <th>3</th>\n",
       "      <td>4</td>\n",
       "      <td>7.0</td>\n",
       "      <td>Needs improvement</td>\n",
       "      <td>4</td>\n",
       "    </tr>\n",
       "    <tr>\n",
       "      <th>4</th>\n",
       "      <td>5</td>\n",
       "      <td>8.0</td>\n",
       "      <td>Unsatisfactory</td>\n",
       "      <td>7</td>\n",
       "    </tr>\n",
       "  </tbody>\n",
       "</table>\n",
       "</div>"
      ],
      "text/plain": [
       "   Customer_ID  Satisfaction_Score  Feedback_Comments  Likelihood_to_Recommend\n",
       "0            1                10.0     Very satisfied                        9\n",
       "1            2                 3.0     Very satisfied                        3\n",
       "2            3                10.0     Very satisfied                        1\n",
       "3            4                 7.0  Needs improvement                        4\n",
       "4            5                 8.0     Unsatisfactory                        7"
      ]
     },
     "execution_count": 10,
     "metadata": {},
     "output_type": "execute_result"
    }
   ],
   "source": [
    "import pandas as pd\n",
    "\n",
    "#Load the CSV file into a DataFrame\n",
    "df = pd.read_csv('Customer_Feedback_Data.csv') \n",
    "df.head()"
   ]
  },
  {
   "cell_type": "code",
   "execution_count": 12,
   "id": "ebfca2fb-fdd6-46e8-9d43-8a4b35ff7173",
   "metadata": {},
   "outputs": [
    {
     "data": {
      "text/plain": [
       "Customer_ID                  int64\n",
       "Satisfaction_Score         float64\n",
       "Feedback_Comments           object\n",
       "Likelihood_to_Recommend      int64\n",
       "dtype: object"
      ]
     },
     "execution_count": 12,
     "metadata": {},
     "output_type": "execute_result"
    }
   ],
   "source": [
    "# Check data types\n",
    "df.dtypes"
   ]
  },
  {
   "cell_type": "code",
   "execution_count": 13,
   "id": "8dce4e0b-1c78-4c89-a334-4663dbaba74e",
   "metadata": {},
   "outputs": [],
   "source": [
    "# Change data type to string\n",
    "df['Customer_ID'] = df['Customer_ID'].astype('str')"
   ]
  },
  {
   "cell_type": "code",
   "execution_count": 14,
   "id": "94510e34-b40a-46fa-a1b8-54bd61c2ddb4",
   "metadata": {},
   "outputs": [
    {
     "data": {
      "text/plain": [
       "Customer_ID                 object\n",
       "Satisfaction_Score         float64\n",
       "Feedback_Comments           object\n",
       "Likelihood_to_Recommend      int64\n",
       "dtype: object"
      ]
     },
     "execution_count": 14,
     "metadata": {},
     "output_type": "execute_result"
    }
   ],
   "source": [
    "# Check data types\n",
    "df.dtypes"
   ]
  },
  {
   "cell_type": "code",
   "execution_count": 15,
   "id": "9600c678-20e8-41a4-9c68-6359dab70616",
   "metadata": {},
   "outputs": [
    {
     "data": {
      "text/plain": [
       "Customer_ID                False\n",
       "Satisfaction_Score         False\n",
       "Feedback_Comments          False\n",
       "Likelihood_to_Recommend    False\n",
       "dtype: bool"
      ]
     },
     "execution_count": 15,
     "metadata": {},
     "output_type": "execute_result"
    }
   ],
   "source": [
    "# Check null values\n",
    "df.isna().all()"
   ]
  },
  {
   "cell_type": "code",
   "execution_count": 32,
   "id": "37b92362-0958-40f8-a254-9d78a92cc729",
   "metadata": {},
   "outputs": [
    {
     "data": {
      "text/html": [
       "<div>\n",
       "<style scoped>\n",
       "    .dataframe tbody tr th:only-of-type {\n",
       "        vertical-align: middle;\n",
       "    }\n",
       "\n",
       "    .dataframe tbody tr th {\n",
       "        vertical-align: top;\n",
       "    }\n",
       "\n",
       "    .dataframe thead th {\n",
       "        text-align: right;\n",
       "    }\n",
       "</style>\n",
       "<table border=\"1\" class=\"dataframe\">\n",
       "  <thead>\n",
       "    <tr style=\"text-align: right;\">\n",
       "      <th></th>\n",
       "      <th>Customer_ID</th>\n",
       "      <th>Satisfaction_Score</th>\n",
       "      <th>Feedback_Comments</th>\n",
       "      <th>Likelihood_to_Recommend</th>\n",
       "    </tr>\n",
       "  </thead>\n",
       "  <tbody>\n",
       "    <tr>\n",
       "      <th>0</th>\n",
       "      <td>1</td>\n",
       "      <td>10.0</td>\n",
       "      <td>Very satisfied</td>\n",
       "      <td>9</td>\n",
       "    </tr>\n",
       "    <tr>\n",
       "      <th>1</th>\n",
       "      <td>2</td>\n",
       "      <td>3.0</td>\n",
       "      <td>Very satisfied</td>\n",
       "      <td>3</td>\n",
       "    </tr>\n",
       "    <tr>\n",
       "      <th>2</th>\n",
       "      <td>3</td>\n",
       "      <td>10.0</td>\n",
       "      <td>Very satisfied</td>\n",
       "      <td>1</td>\n",
       "    </tr>\n",
       "    <tr>\n",
       "      <th>3</th>\n",
       "      <td>4</td>\n",
       "      <td>7.0</td>\n",
       "      <td>Needs improvement</td>\n",
       "      <td>4</td>\n",
       "    </tr>\n",
       "    <tr>\n",
       "      <th>4</th>\n",
       "      <td>5</td>\n",
       "      <td>8.0</td>\n",
       "      <td>Unsatisfactory</td>\n",
       "      <td>7</td>\n",
       "    </tr>\n",
       "  </tbody>\n",
       "</table>\n",
       "</div>"
      ],
      "text/plain": [
       "  Customer_ID  Satisfaction_Score  Feedback_Comments  Likelihood_to_Recommend\n",
       "0           1                10.0     Very satisfied                        9\n",
       "1           2                 3.0     Very satisfied                        3\n",
       "2           3                10.0     Very satisfied                        1\n",
       "3           4                 7.0  Needs improvement                        4\n",
       "4           5                 8.0     Unsatisfactory                        7"
      ]
     },
     "execution_count": 32,
     "metadata": {},
     "output_type": "execute_result"
    }
   ],
   "source": [
    "df.head()"
   ]
  },
  {
   "cell_type": "code",
   "execution_count": 48,
   "id": "15417791-dfaa-4694-b7c9-7e93e5c1be95",
   "metadata": {},
   "outputs": [
    {
     "name": "stdout",
     "output_type": "stream",
     "text": [
      "Outliers detected using Z-Score method:\n",
      "      Customer_ID  Satisfaction_Score Feedback_Comments  \\\n",
      "529           530                52.0      Good service   \n",
      "573           574                60.0      Good service   \n",
      "857           858                56.0    Very satisfied   \n",
      "1090          218                60.0      Good service   \n",
      "2451          582                51.0      Good service   \n",
      "3012          926                58.0      Good service   \n",
      "3306          503                51.0         Excellent   \n",
      "4131          949                53.0    Unsatisfactory   \n",
      "4499          934                58.0      Good service   \n",
      "4650          615                54.0    Unsatisfactory   \n",
      "\n",
      "      Likelihood_to_Recommend    Z-Score  \n",
      "529                        10  12.842110  \n",
      "573                         9  15.060320  \n",
      "857                        10  13.951215  \n",
      "1090                        1  15.060320  \n",
      "2451                        5  12.564833  \n",
      "3012                        9  14.505767  \n",
      "3306                        8  12.564833  \n",
      "4131                        7  13.119386  \n",
      "4499                        4  14.505767  \n",
      "4650                        7  13.396662  \n"
     ]
    }
   ],
   "source": [
    "import pandas as pd\n",
    "import numpy as np\n",
    "\n",
    "df = pd.read_csv('Customer_Feedback_Data.csv') \n",
    "\n",
    "# Calculate Z-scores\n",
    "df['Z-Score'] = (df['Satisfaction_Score'] - df['Satisfaction_Score'].mean()) / df['Satisfaction_Score'].std()\n",
    "\n",
    "# Identify outliers\n",
    "outliers_z = df[np.abs(df['Z-Score']) > 3]\n",
    "print(\"Outliers detected using Z-Score method:\")\n",
    "print(outliers_z)\n"
   ]
  },
  {
   "cell_type": "code",
   "execution_count": 55,
   "id": "09dc3c23-6190-49a8-996f-bb65be2d5801",
   "metadata": {},
   "outputs": [
    {
     "data": {
      "text/plain": [
       "array([[<Axes: title={'center': 'Customer_ID'}>,\n",
       "        <Axes: title={'center': 'Satisfaction_Score'}>],\n",
       "       [<Axes: title={'center': 'Likelihood_to_Recommend'}>, <Axes: >]],\n",
       "      dtype=object)"
      ]
     },
     "execution_count": 55,
     "metadata": {},
     "output_type": "execute_result"
    },
    {
     "data": {
      "image/png": "[encoded data removed]",
      "text/plain": [
       "<Figure size 2000x1000 with 4 Axes>"
      ]
     },
     "metadata": {},
     "output_type": "display_data"
    }
   ],
   "source": [
    "df = pd.read_csv('Customer_Feedback_Data.csv')\n",
    "df.hist(bins=60, figsize=(20,10))"
   ]
  },
  {
   "cell_type": "code",
   "execution_count": null,
   "id": "ccbc6f15-13b9-4007-8367-50fdff52757b",
   "metadata": {},
   "outputs": [],
   "source": []
  }
 ],
 "metadata": {
  "kernelspec": {
   "display_name": "Python 3 (ipykernel)",
   "language": "python",
   "name": "python3"
  },
  "language_info": {
   "codemirror_mode": {
    "name": "ipython",
    "version": 3
   },
   "file_extension": ".py",
   "mimetype": "text/x-python",
   "name": "python",
   "nbconvert_exporter": "python",
   "pygments_lexer": "ipython3",
   "version": "3.12.7"
  }
 },
 "nbformat": 4,
 "nbformat_minor": 5
}
